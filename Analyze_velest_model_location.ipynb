{
 "cells": [
  {
   "cell_type": "code",
   "execution_count": 68,
   "id": "21834ca0-fbb4-4c65-95c2-857623a995c9",
   "metadata": {},
   "outputs": [],
   "source": [
    "import pandas as pd"
   ]
  },
  {
   "cell_type": "code",
   "execution_count": 70,
   "id": "88223fb3-f4b2-49d6-acfd-60e34989fc71",
   "metadata": {},
   "outputs": [],
   "source": [
    "path = r\"C:\\Users\\mihai\\Desktop\\SIOLA\\Диссертация\\HypoDD\\hypsum.out\"\n",
    "path = r\"C:\\Users\\mihai\\Desktop\\SIOLA\\Диссертация\\HypoDD\\Original_model\\hypsum.out\""
   ]
  },
  {
   "cell_type": "code",
   "execution_count": 71,
   "id": "122c7e10-dbd4-4750-a3f8-cae7b86fb8d2",
   "metadata": {},
   "outputs": [],
   "source": [
    "erh = []\n",
    "erz = []\n",
    "Erx = []\n",
    "\n",
    "with open(path, 'r') as f:\n",
    "    for line in f:\n",
    "        # slice positions (0-based indexing)\n",
    "        erh.append(line[68:72].strip())\n",
    "        erz.append(line[72:77].strip())\n",
    "        Erx.append(line[77:82].strip())\n",
    "\n",
    "# If you later want a DataFrame:\n",
    "import pandas as pd\n",
    "df = pd.DataFrame({'erh': erh, 'erz': erz, 'Erx': Erx})"
   ]
  },
  {
   "cell_type": "code",
   "execution_count": 72,
   "id": "420e7b47-4d66-417f-a3f8-c0a14e756a34",
   "metadata": {},
   "outputs": [],
   "source": [
    "df = df.iloc[1:,:]"
   ]
  },
  {
   "cell_type": "code",
   "execution_count": 73,
   "id": "091a0928-2c09-406c-a7ac-7bcd1af931de",
   "metadata": {},
   "outputs": [
    {
     "name": "stdout",
     "output_type": "stream",
     "text": [
      "Number of rows with all values > 20: erh    411\n",
      "erz    411\n",
      "Erx    411\n",
      "dtype: int64\n"
     ]
    }
   ],
   "source": [
    "# Convert columns to float\n",
    "df[['erh', 'erz', 'Erx']] = df[['erh', 'erz', 'Erx']].astype(float)\n",
    "\n",
    "# Count rows where all values > 20\n",
    "good_df = df[(df['erh'] < 10) & (df['erz'] < 10) & (df['Erx'] < 10)]\n",
    "\n",
    "print(\"Number of rows with all values > 20:\", good_df.count())"
   ]
  },
  {
   "cell_type": "code",
   "execution_count": 74,
   "id": "57ee231f-8d8d-4b7b-aa3a-6069a3e5109d",
   "metadata": {},
   "outputs": [
    {
     "data": {
      "text/html": [
       "<div>\n",
       "<style scoped>\n",
       "    .dataframe tbody tr th:only-of-type {\n",
       "        vertical-align: middle;\n",
       "    }\n",
       "\n",
       "    .dataframe tbody tr th {\n",
       "        vertical-align: top;\n",
       "    }\n",
       "\n",
       "    .dataframe thead th {\n",
       "        text-align: right;\n",
       "    }\n",
       "</style>\n",
       "<table border=\"1\" class=\"dataframe\">\n",
       "  <thead>\n",
       "    <tr style=\"text-align: right;\">\n",
       "      <th></th>\n",
       "      <th>erh</th>\n",
       "      <th>erz</th>\n",
       "      <th>Erx</th>\n",
       "    </tr>\n",
       "  </thead>\n",
       "  <tbody>\n",
       "    <tr>\n",
       "      <th>count</th>\n",
       "      <td>411.000000</td>\n",
       "      <td>411.000000</td>\n",
       "      <td>411.000000</td>\n",
       "    </tr>\n",
       "    <tr>\n",
       "      <th>mean</th>\n",
       "      <td>6.429197</td>\n",
       "      <td>4.163504</td>\n",
       "      <td>5.843309</td>\n",
       "    </tr>\n",
       "    <tr>\n",
       "      <th>std</th>\n",
       "      <td>2.211505</td>\n",
       "      <td>2.074898</td>\n",
       "      <td>2.104460</td>\n",
       "    </tr>\n",
       "    <tr>\n",
       "      <th>min</th>\n",
       "      <td>2.000000</td>\n",
       "      <td>0.000000</td>\n",
       "      <td>1.800000</td>\n",
       "    </tr>\n",
       "    <tr>\n",
       "      <th>25%</th>\n",
       "      <td>4.600000</td>\n",
       "      <td>2.600000</td>\n",
       "      <td>4.100000</td>\n",
       "    </tr>\n",
       "    <tr>\n",
       "      <th>50%</th>\n",
       "      <td>6.400000</td>\n",
       "      <td>3.700000</td>\n",
       "      <td>5.700000</td>\n",
       "    </tr>\n",
       "    <tr>\n",
       "      <th>75%</th>\n",
       "      <td>8.600000</td>\n",
       "      <td>5.400000</td>\n",
       "      <td>7.800000</td>\n",
       "    </tr>\n",
       "    <tr>\n",
       "      <th>max</th>\n",
       "      <td>9.900000</td>\n",
       "      <td>9.900000</td>\n",
       "      <td>9.600000</td>\n",
       "    </tr>\n",
       "  </tbody>\n",
       "</table>\n",
       "</div>"
      ],
      "text/plain": [
       "              erh         erz         Erx\n",
       "count  411.000000  411.000000  411.000000\n",
       "mean     6.429197    4.163504    5.843309\n",
       "std      2.211505    2.074898    2.104460\n",
       "min      2.000000    0.000000    1.800000\n",
       "25%      4.600000    2.600000    4.100000\n",
       "50%      6.400000    3.700000    5.700000\n",
       "75%      8.600000    5.400000    7.800000\n",
       "max      9.900000    9.900000    9.600000"
      ]
     },
     "execution_count": 74,
     "metadata": {},
     "output_type": "execute_result"
    }
   ],
   "source": [
    "good_df.describe()"
   ]
  },
  {
   "cell_type": "code",
   "execution_count": null,
   "id": "ad2a5623-d0ef-4b24-af75-acc3816aec71",
   "metadata": {},
   "outputs": [],
   "source": []
  }
 ],
 "metadata": {
  "kernelspec": {
   "display_name": "Python 3 (ipykernel)",
   "language": "python",
   "name": "python3"
  },
  "language_info": {
   "codemirror_mode": {
    "name": "ipython",
    "version": 3
   },
   "file_extension": ".py",
   "mimetype": "text/x-python",
   "name": "python",
   "nbconvert_exporter": "python",
   "pygments_lexer": "ipython3",
   "version": "3.12.3"
  }
 },
 "nbformat": 4,
 "nbformat_minor": 5
}
